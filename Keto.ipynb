{
 "cells": [
  {
   "cell_type": "markdown",
   "id": "077bbf4d-a461-4536-9150-ab0c52e4d385",
   "metadata": {},
   "source": [
    "## Building an Advanced RAG System for \"The Healthy Keto Plan\" PDF"
   ]
  },
  {
   "cell_type": "markdown",
   "id": "a7d906db-d0e2-4ab4-9af2-5d3dec28e297",
   "metadata": {},
   "source": [
    "# Introduction"
   ]
  },
  {
   "cell_type": "markdown",
   "id": "24c2047c-956a-4523-a960-73612e0ec8d4",
   "metadata": {},
   "source": [
    "## Project Goal\n",
    "This project implements a Retrieval-Augmented Generation (RAG) system to build an intelligent chatbot capable of answering questions based on the content of the book \"The Healthy Keto Plan\" by Dr. Eric Berg. The goal is to explore various retrieval strategies to provide the most accurate and contextually relevant answers."
   ]
  },
  {
   "cell_type": "markdown",
   "id": "34152587-d727-4735-a070-7d6ffbe7e31c",
   "metadata": {},
   "source": [
    "## Technology Stack\n",
    "**Data Processing:** PyMuPDF (fitz), pandas\n",
    "\n",
    "**Embeddings:** sentence-transformers/all-mpnet-base-v2\n",
    "\n",
    "**Vector Store:** FAISS (Facebook AI Similarity Search)\n",
    "\n",
    "**LLM:** Google Gemini 2.5 Flash via API\n",
    "\n",
    "**Framework:** LangChain"
   ]
  },
  {
   "cell_type": "markdown",
   "id": "1153d053-570f-42bd-9dcc-2eaef0f89c35",
   "metadata": {},
   "source": [
    "# Understanding the Dataset"
   ]
  },
  {
   "cell_type": "code",
   "execution_count": 2,
   "id": "c85263af-e0b1-4aae-8619-559b29af9728",
   "metadata": {},
   "outputs": [],
   "source": [
    "import requests\n",
    "pdf_path = 'The_Healthy_Keto_Plan_PDF_from_eric_berg.pdf'\n",
    "pdf_url = 'https://cdn.bookey.app/files/pdf/book/en/the-healthy-keto-plan.pdf'\n",
    "response = requests.get(pdf_url)\n",
    "if response.status_code==200:\n",
    "    with open(pdf_path,'wb') as file:\n",
    "        file.write(response.content)"
   ]
  },
  {
   "cell_type": "code",
   "execution_count": 3,
   "id": "bc158ccd-1499-43dc-8c09-492ae561b2b9",
   "metadata": {},
   "outputs": [
    {
     "name": "stdout",
     "output_type": "stream",
     "text": [
      "The Healthy Keto Plan PDF\n",
      "Eric Berg\n",
      "\n",
      "The Healthy Keto Plan\n",
      "Transform Your Health to Naturally Achieve\n",
      "Sustainable Weight Loss.\n",
      "Written by Bookey\n",
      "Check more about The Healthy Keto Plan Summary\n",
      "Listen The Healthy Keto Plan Audiobook\n",
      "\n",
      "About the book\n",
      "In \"The Healthy Keto Plan,\" Dr. Eric Berg shifts the focus\n",
      "from merely losing weight to achieving holistic health as the\n",
      "foundation for effective weight management. This updated\n",
      "edition of his best-selling guide presents new strategies\n",
      "tailored to your \n"
     ]
    }
   ],
   "source": [
    "import fitz\n",
    "import re\n",
    "doc = fitz.open(pdf_path)\n",
    "full_text = ''\n",
    "for page in doc:\n",
    "    page_text = page.get_text()\n",
    "    cleaned_page_text = re.sub(r'scan to download', '', page_text, flags=re.IGNORECASE)\n",
    "    full_text+=cleaned_page_text\n",
    "\n",
    "print(full_text[:500])"
   ]
  },
  {
   "cell_type": "code",
   "execution_count": 4,
   "id": "5a03742a-dbcb-48bd-a18a-412f92bc09a4",
   "metadata": {},
   "outputs": [],
   "source": [
    "def text_formatter(text):\n",
    "    cleaned_text = text.replace(\"\\n\",\" \").strip()\n",
    "    return cleaned_text"
   ]
  },
  {
   "cell_type": "markdown",
   "id": "a7cc7903-926b-41f8-8fd8-c8698a9e66b3",
   "metadata": {},
   "source": [
    "I have to remove after page number 208 because the model can understand wrong for example page 208 contains a sentence: **Identifying your body type is not important in the Healthy\n",
    " Keto Plan**\n",
    "\n",
    " the model can undersand it wrong.\n",
    "\n",
    "\n",
    " after page 120 i have lots of question and answers those informations are so valuable. every question/answer will be a chunk."
   ]
  },
  {
   "cell_type": "code",
   "execution_count": 75,
   "id": "6caa4cde-783d-4fdb-b15e-a366822114ec",
   "metadata": {},
   "outputs": [
    {
     "name": "stderr",
     "output_type": "stream",
     "text": [
      "227it [00:00, 2541.34it/s]\n"
     ]
    },
    {
     "data": {
      "text/plain": [
       "[{'page_number': 207,\n",
       "  'page_char_count': 842,\n",
       "  'page_word_count': 141,\n",
       "  'page_sentence_count': 10,\n",
       "  'page_token_count': 210.5,\n",
       "  'text': ' The Healthy Keto Plan Quiz and Test Check the Correct Answer on Bookey Website Chapter 1 | 1. Missing Link—the Educational Step| Quiz and Test 1.Losing weight is primarily a challenge of willpower according to Eric Berg. 2.Healthy Ketosis™ and intermittent fasting are combined in the Healthy Keto Plan to help with weight loss. 3.Identifying your body type is not important in the Healthy Keto Plan. Chapter 2 | 2. The 7 Principles of Fat Burning| Quiz and Test 1.Food is primarily considered as a source of pleasure according to Eric Berg. 2.Weight gain is more influenced by metabolism and hormones rather than just calorie intake. 3.To achieve effective weight loss, one should focus on reducing their weight before addressing any health issues. Chapter 3 | 3. Hormones and Your Body Shape| Quiz and Test '}]"
      ]
     },
     "execution_count": 75,
     "metadata": {},
     "output_type": "execute_result"
    }
   ],
   "source": [
    "from tqdm import tqdm\n",
    "def describe_the_pdf(doc):\n",
    "    pages_and_text = []\n",
    "    for page_number, page in tqdm(enumerate(doc)):\n",
    "        text = page.get_text()\n",
    "        text = text_formatter(text)\n",
    "        cleaned_page_text = re.sub(r'scan to download', '', text, flags=re.IGNORECASE)\n",
    "        cleaned_page_text = re.sub(r'Install Bookey App to Unlock Full Text and Audio','',cleaned_page_text,flags=re.IGNORECASE)\n",
    "        pages_and_text.append({\n",
    "            \"page_number\": page_number,\n",
    "            \"page_char_count\": len(text),\n",
    "            \"page_word_count\": len(text.split(' ')),\n",
    "            \"page_sentence_count\": len(text.split('. ')),\n",
    "            \"page_token_count\": len(text) / 4,\n",
    "            \"text\": cleaned_page_text\n",
    "        })\n",
    "    return pages_and_text\n",
    "\n",
    "pages_and_text = describe_the_pdf(doc)\n",
    "pages_and_text[207:208]"
   ]
  },
  {
   "cell_type": "code",
   "execution_count": 6,
   "id": "e9c5dad6-4e9f-42d9-816e-f97dc75293d7",
   "metadata": {},
   "outputs": [
    {
     "name": "stderr",
     "output_type": "stream",
     "text": [
      "206it [00:00, 3676.13it/s]\n"
     ]
    },
    {
     "data": {
      "text/plain": [
       "{'page_number': 7,\n",
       " 'page_char_count': 1630,\n",
       " 'page_word_count': 228,\n",
       " 'page_sentence_count': 12,\n",
       " 'page_token_count': 407.5,\n",
       " 'text': ' Chapter 1 Summary : 1. Missing Link—the Educational Step Section Summary Introduction to Weight Loss Difficulties Weight loss challenges often stem from lack of education on effective methods rather than willpower issues. The Importance of Education Understanding fat burning and health is crucial; education on triggering fat-burning hormones is essential for success. Healthy Ketosis™ and Intermittent Fasting The program combines Healthy Ketosis™ and intermittent fasting to normalize insulin levels and address health issues. Identifying the Real Problem Weight is a symptom; comprehending hormonal influences on metabolism is vital for effective weight loss. Tailoring the Plan to Your Body Type This plan recognizes different body types require varied dietary and exercise strategies; a quiz will help determine individual needs. Nutrient-Dense Foods for Better Satiety A Basic Eating Plan will start participants on nutrient-dense foods to curb cravings and improve satisfaction. Long-term Lifestyle Change The program encourages sustainable lifestyle changes to maintain weight loss by addressing underlying health issues. Understanding Weight Loss Dynamics Expected fat loss is about two pounds per week; hormonal blockages may affect fat burning, which the plan aims to address. Holistic Benefits of the Program Participants can expect improved energy, sleep, digestion, and health markers through hormone-triggering foods and exercises. Empowerment Through Knowledge Participants gain control over their health and weight by understanding their bodies and making informed food choices. '}"
      ]
     },
     "execution_count": 6,
     "metadata": {},
     "output_type": "execute_result"
    }
   ],
   "source": [
    "doc_removed = doc[:206]\n",
    "dataset = describe_the_pdf(doc_removed)\n",
    "dataset[7] #this is a table"
   ]
  },
  {
   "cell_type": "code",
   "execution_count": 7,
   "id": "f01d2fbc-7fce-485c-8564-47d6a455c0c3",
   "metadata": {},
   "outputs": [
    {
     "data": {
      "text/plain": [
       "[{'page_number': 180,\n",
       "  'page_char_count': 923,\n",
       "  'page_word_count': 143,\n",
       "  'page_sentence_count': 8,\n",
       "  'page_token_count': 230.75,\n",
       "  'text': \" 7.Question What if I'm feeling more tired on the healthy eating plan? Answer:Increased fatigue can be due to B vitamin depletion caused by fat burning. Taking nutritional yeast can replenish these vitamins easily—just one teaspoon a day can make a significant difference. 8.Question Why might I experience vivid dreams or nightmares while on this plan? Answer:These can be signs of a B-vitamin deficiency, specifically if you’re not getting enough from your diet. Adding non-fortified nutritional yeast to your daily routine can help alleviate this issue. 9.Question How important is it to focus on portion sizes while eating? Answer:Awareness of your body's fullness cues is vital. Many people are conditioned to finish everything on their plates due to upbringing. Structuring smaller plates or servings at home can help you stop eating when satisfied instead of when completely stuffed. \"},\n",
       " {'page_number': 98,\n",
       "  'page_char_count': 0,\n",
       "  'page_word_count': 1,\n",
       "  'page_sentence_count': 1,\n",
       "  'page_token_count': 0.0,\n",
       "  'text': ''},\n",
       " {'page_number': 219,\n",
       "  'page_char_count': 769,\n",
       "  'page_word_count': 122,\n",
       "  'page_sentence_count': 11,\n",
       "  'page_token_count': 192.25,\n",
       "  'text': ' Chapter 13 | 13. Additional Eating Information| Quiz and Test 1.The label ‘natural’ on food guarantees its safety and health benefits. 2.High-sodium foods can cause water retention, so one should be cautious when dining out. 3.Dietary intake of eggs significantly raises blood cholesterol levels. Chapter 14 | 14. Sticking to It— GUARANTEED!| Quiz and Test 1.To diminish sugar cravings, complete elimination of sugar is essential. 2.Eating sugary foods for stress relief will always reduce stress and cravings. 3.Mindless snacking can be avoided by sitting idle and having nothing to do. Chapter 15 | 15. Body Issues That Interfere with Losing Weight| Quiz and Test 1.Focusing solely on weight scales is the best way to measure health. '}]"
      ]
     },
     "execution_count": 7,
     "metadata": {},
     "output_type": "execute_result"
    }
   ],
   "source": [
    "import random\n",
    "random.sample(pages_and_text, k=3)"
   ]
  },
  {
   "cell_type": "code",
   "execution_count": 8,
   "id": "603d4d42-b293-46a1-b848-7eb58bdbcfe6",
   "metadata": {},
   "outputs": [
    {
     "data": {
      "text/html": [
       "<div>\n",
       "<style scoped>\n",
       "    .dataframe tbody tr th:only-of-type {\n",
       "        vertical-align: middle;\n",
       "    }\n",
       "\n",
       "    .dataframe tbody tr th {\n",
       "        vertical-align: top;\n",
       "    }\n",
       "\n",
       "    .dataframe thead th {\n",
       "        text-align: right;\n",
       "    }\n",
       "</style>\n",
       "<table border=\"1\" class=\"dataframe\">\n",
       "  <thead>\n",
       "    <tr style=\"text-align: right;\">\n",
       "      <th></th>\n",
       "      <th>page_number</th>\n",
       "      <th>page_char_count</th>\n",
       "      <th>page_word_count</th>\n",
       "      <th>page_sentence_count</th>\n",
       "      <th>page_token_count</th>\n",
       "      <th>text</th>\n",
       "    </tr>\n",
       "  </thead>\n",
       "  <tbody>\n",
       "    <tr>\n",
       "      <th>0</th>\n",
       "      <td>0</td>\n",
       "      <td>52</td>\n",
       "      <td>10</td>\n",
       "      <td>1</td>\n",
       "      <td>13.00</td>\n",
       "      <td>The Healthy Keto Plan PDF Eric Berg</td>\n",
       "    </tr>\n",
       "    <tr>\n",
       "      <th>1</th>\n",
       "      <td>1</td>\n",
       "      <td>210</td>\n",
       "      <td>33</td>\n",
       "      <td>2</td>\n",
       "      <td>52.50</td>\n",
       "      <td>The Healthy Keto Plan Transform Your Health to...</td>\n",
       "    </tr>\n",
       "    <tr>\n",
       "      <th>2</th>\n",
       "      <td>2</td>\n",
       "      <td>1000</td>\n",
       "      <td>151</td>\n",
       "      <td>10</td>\n",
       "      <td>250.00</td>\n",
       "      <td>About the book In \"The Healthy Keto Plan,\" Dr....</td>\n",
       "    </tr>\n",
       "    <tr>\n",
       "      <th>3</th>\n",
       "      <td>3</td>\n",
       "      <td>785</td>\n",
       "      <td>116</td>\n",
       "      <td>7</td>\n",
       "      <td>196.25</td>\n",
       "      <td>About the author Dr. Eric Berg is a prominent ...</td>\n",
       "    </tr>\n",
       "    <tr>\n",
       "      <th>4</th>\n",
       "      <td>4</td>\n",
       "      <td>0</td>\n",
       "      <td>1</td>\n",
       "      <td>1</td>\n",
       "      <td>0.00</td>\n",
       "      <td></td>\n",
       "    </tr>\n",
       "  </tbody>\n",
       "</table>\n",
       "</div>"
      ],
      "text/plain": [
       "   page_number  page_char_count  page_word_count  page_sentence_count  \\\n",
       "0            0               52               10                    1   \n",
       "1            1              210               33                    2   \n",
       "2            2             1000              151                   10   \n",
       "3            3              785              116                    7   \n",
       "4            4                0                1                    1   \n",
       "\n",
       "   page_token_count                                               text  \n",
       "0             13.00               The Healthy Keto Plan PDF Eric Berg   \n",
       "1             52.50  The Healthy Keto Plan Transform Your Health to...  \n",
       "2            250.00  About the book In \"The Healthy Keto Plan,\" Dr....  \n",
       "3            196.25  About the author Dr. Eric Berg is a prominent ...  \n",
       "4              0.00                                                     "
      ]
     },
     "execution_count": 8,
     "metadata": {},
     "output_type": "execute_result"
    }
   ],
   "source": [
    "import pandas as pd\n",
    "df = pd.DataFrame(dataset)\n",
    "df.head()"
   ]
  },
  {
   "cell_type": "code",
   "execution_count": 9,
   "id": "2d615fca-afc9-4d2e-92f5-6ed40337a156",
   "metadata": {},
   "outputs": [
    {
     "data": {
      "text/html": [
       "<div>\n",
       "<style scoped>\n",
       "    .dataframe tbody tr th:only-of-type {\n",
       "        vertical-align: middle;\n",
       "    }\n",
       "\n",
       "    .dataframe tbody tr th {\n",
       "        vertical-align: top;\n",
       "    }\n",
       "\n",
       "    .dataframe thead th {\n",
       "        text-align: right;\n",
       "    }\n",
       "</style>\n",
       "<table border=\"1\" class=\"dataframe\">\n",
       "  <thead>\n",
       "    <tr style=\"text-align: right;\">\n",
       "      <th></th>\n",
       "      <th>page_number</th>\n",
       "      <th>page_char_count</th>\n",
       "      <th>page_word_count</th>\n",
       "      <th>page_sentence_count</th>\n",
       "      <th>page_token_count</th>\n",
       "    </tr>\n",
       "  </thead>\n",
       "  <tbody>\n",
       "    <tr>\n",
       "      <th>count</th>\n",
       "      <td>206.00</td>\n",
       "      <td>206.00</td>\n",
       "      <td>206.00</td>\n",
       "      <td>206.00</td>\n",
       "      <td>206.00</td>\n",
       "    </tr>\n",
       "    <tr>\n",
       "      <th>mean</th>\n",
       "      <td>102.50</td>\n",
       "      <td>695.17</td>\n",
       "      <td>107.54</td>\n",
       "      <td>5.87</td>\n",
       "      <td>173.79</td>\n",
       "    </tr>\n",
       "    <tr>\n",
       "      <th>std</th>\n",
       "      <td>59.61</td>\n",
       "      <td>329.12</td>\n",
       "      <td>50.53</td>\n",
       "      <td>3.16</td>\n",
       "      <td>82.28</td>\n",
       "    </tr>\n",
       "    <tr>\n",
       "      <th>min</th>\n",
       "      <td>0.00</td>\n",
       "      <td>0.00</td>\n",
       "      <td>1.00</td>\n",
       "      <td>1.00</td>\n",
       "      <td>0.00</td>\n",
       "    </tr>\n",
       "    <tr>\n",
       "      <th>25%</th>\n",
       "      <td>51.25</td>\n",
       "      <td>608.25</td>\n",
       "      <td>102.25</td>\n",
       "      <td>4.00</td>\n",
       "      <td>152.06</td>\n",
       "    </tr>\n",
       "    <tr>\n",
       "      <th>50%</th>\n",
       "      <td>102.50</td>\n",
       "      <td>809.00</td>\n",
       "      <td>122.50</td>\n",
       "      <td>6.00</td>\n",
       "      <td>202.25</td>\n",
       "    </tr>\n",
       "    <tr>\n",
       "      <th>75%</th>\n",
       "      <td>153.75</td>\n",
       "      <td>884.75</td>\n",
       "      <td>134.00</td>\n",
       "      <td>7.00</td>\n",
       "      <td>221.19</td>\n",
       "    </tr>\n",
       "    <tr>\n",
       "      <th>max</th>\n",
       "      <td>205.00</td>\n",
       "      <td>1831.00</td>\n",
       "      <td>313.00</td>\n",
       "      <td>21.00</td>\n",
       "      <td>457.75</td>\n",
       "    </tr>\n",
       "  </tbody>\n",
       "</table>\n",
       "</div>"
      ],
      "text/plain": [
       "       page_number  page_char_count  page_word_count  page_sentence_count  \\\n",
       "count       206.00           206.00           206.00               206.00   \n",
       "mean        102.50           695.17           107.54                 5.87   \n",
       "std          59.61           329.12            50.53                 3.16   \n",
       "min           0.00             0.00             1.00                 1.00   \n",
       "25%          51.25           608.25           102.25                 4.00   \n",
       "50%         102.50           809.00           122.50                 6.00   \n",
       "75%         153.75           884.75           134.00                 7.00   \n",
       "max         205.00          1831.00           313.00                21.00   \n",
       "\n",
       "       page_token_count  \n",
       "count            206.00  \n",
       "mean             173.79  \n",
       "std               82.28  \n",
       "min                0.00  \n",
       "25%              152.06  \n",
       "50%              202.25  \n",
       "75%              221.19  \n",
       "max              457.75  "
      ]
     },
     "execution_count": 9,
     "metadata": {},
     "output_type": "execute_result"
    }
   ],
   "source": [
    "df.describe().round(2)"
   ]
  },
  {
   "cell_type": "markdown",
   "id": "925d6432-f4ea-4922-b09d-2e54b87f8a2a",
   "metadata": {},
   "source": [
    "# Strategic Chunking\n",
    "Chunking is the process of breaking down the large document into smaller, semantically meaningful pieces. A one-size-fits-all approach is not ideal for this document.\n",
    "\n",
    "Q&A Section (Pages 120+): This section has a clear structure. Each question and its corresponding answer is a perfect, self-contained chunk. We use a regular expression (`regex`) to split the text precisely along these Q&A pairs.\n",
    "\n",
    "Normal Text Section (Pages 1-119): For the standard prose, we use a RecursiveCharacterTextSplitter. This method is robust as it tries to split text along natural boundaries (paragraphs, sentences) to keep related content together, using a defined `chunk_size` and `chunk_overlap`."
   ]
  },
  {
   "cell_type": "code",
   "execution_count": 10,
   "id": "732deee3-deb2-4ccd-8b6b-d3ccc7c878ee",
   "metadata": {},
   "outputs": [
    {
     "data": {
      "text/plain": [
       "'Scan to Download\\nChapter 19 | Quotes From Pages 837-888\\n1.Better indicators for improvement would be\\nenergy level, sleep quality, digestion and cravings,\\nas these tell if the body is healing.\\n2.If you’re only losing one to two pounds per week, it might\\nnot be a bad thing; it might actually be normal. And it’s\\nimportant to understand this so you don’t get discouraged.\\n3.Something is better than nothing. Do what you can and try\\nto improve your eating each week, making gradual\\nimprovements over time.\\n4.You are basically creating a higher level of health, and it’s\\nworth the investment.\\n5.The goal of this program is to stabilize your organs so you\\ncan keep the weight off.\\n'"
      ]
     },
     "execution_count": 10,
     "metadata": {},
     "output_type": "execute_result"
    }
   ],
   "source": [
    "qa_doc = doc_removed[119:]\n",
    "normal_doc = doc_removed[:119]\n",
    "normal_doc[-2].get_text()"
   ]
  },
  {
   "cell_type": "code",
   "execution_count": 11,
   "id": "541f8574-ff3f-4042-ba55-ae4db09cbf03",
   "metadata": {
    "scrolled": true
   },
   "outputs": [
    {
     "name": "stderr",
     "output_type": "stream",
     "text": [
      "87it [00:00, 3899.68it/s]\n"
     ]
    }
   ],
   "source": [
    "qa_list_of_dict = describe_the_pdf(qa_doc)\n",
    "qa_text = ''\n",
    "for page in range(len(qa_list_of_dict)):\n",
    "    qa_text+=qa_list_of_dict[page]['text']"
   ]
  },
  {
   "cell_type": "code",
   "execution_count": 12,
   "id": "f90b0b90-084f-40d8-a0f6-772db6888a8b",
   "metadata": {
    "scrolled": true
   },
   "outputs": [],
   "source": [
    "pattern = r'(?=\\d+\\.Question)'\n",
    "\n",
    "qa_raw_chunks = re.split(pattern, qa_text)\n",
    "qa_chunks = [chunk.strip() for chunk in qa_raw_chunks if \"Answer:\" in chunk]\n"
   ]
  },
  {
   "cell_type": "code",
   "execution_count": 13,
   "id": "908d759f-24bf-45fd-943b-4700710c6bbd",
   "metadata": {
    "scrolled": true
   },
   "outputs": [
    {
     "name": "stderr",
     "output_type": "stream",
     "text": [
      "119it [00:00, 4914.26it/s]\n"
     ]
    }
   ],
   "source": [
    "from langchain.text_splitter import RecursiveCharacterTextSplitter\n",
    "text_splitter = RecursiveCharacterTextSplitter(\n",
    "    chunk_size=1000,\n",
    "    chunk_overlap=150\n",
    ")\n",
    "\n",
    "normal_list_of_dict = describe_the_pdf(normal_doc)\n",
    "normal_text = ''\n",
    "for page in range(len(normal_list_of_dict)):\n",
    "    normal_text+=normal_list_of_dict[page]['text'] + \"\\n\\n\"\n",
    "\n",
    "normal_chunks = text_splitter.split_text(normal_text)\n"
   ]
  },
  {
   "cell_type": "code",
   "execution_count": 14,
   "id": "544e06e1-91bf-4966-8e79-948f21ae697f",
   "metadata": {},
   "outputs": [],
   "source": [
    "all_chunks = []\n",
    "all_chunks.extend(qa_chunks)\n",
    "all_chunks.extend(normal_chunks)"
   ]
  },
  {
   "cell_type": "markdown",
   "id": "556d8ecd-6a97-4164-af47-c8783d4d44a2",
   "metadata": {},
   "source": [
    "## Adding Metadata on chunks"
   ]
  },
  {
   "cell_type": "markdown",
   "id": "6f70d180-dd01-4f2f-bec4-566e3d12a9b9",
   "metadata": {},
   "source": [
    "### Source Citing"
   ]
  },
  {
   "cell_type": "markdown",
   "id": "3b3d4993-d0e5-46c8-b415-bc6159eecf75",
   "metadata": {},
   "source": []
  },
  {
   "cell_type": "code",
   "execution_count": 15,
   "id": "08636ca9-a2c4-4d24-881b-ec7341a7d8d3",
   "metadata": {},
   "outputs": [
    {
     "name": "stdout",
     "output_type": "stream",
     "text": [
      "[997, 996, 992, 989, 987, 983, 975, 974, 964, 959]\n"
     ]
    }
   ],
   "source": [
    "lenn = []\n",
    "for i in all_chunks:\n",
    "    lenn.append(len(i))\n",
    "\n",
    "lenn.sort(reverse=True)\n",
    "max_10_chuncks = lenn[:10]\n",
    "\n",
    "print(max_10_chuncks) #~997/4 = 225 tokens is good."
   ]
  },
  {
   "cell_type": "markdown",
   "id": "2d0c19a3-d915-46f1-9335-be29771e8cbc",
   "metadata": {},
   "source": [
    "# 4. Embedding and Vector Storage\n",
    "To enable semantic search, we must convert our text chunks into numerical representations called embeddings. We use the `all-mpnet-base-v2` model from Sentence-Transformers, which is excellent for generating meaningful text embeddings.\n",
    "\n",
    "These embeddings are then stored in FAISS, a high-performance in-memory vector store. FAISS allows for incredibly fast similarity searches, which is perfect for retrieving the most relevant chunks for a given user query."
   ]
  },
  {
   "cell_type": "code",
   "execution_count": 16,
   "id": "88791142-4aa5-4958-b1f8-4f11160d9d4e",
   "metadata": {},
   "outputs": [
    {
     "data": {
      "text/plain": [
       "device(type='cuda')"
      ]
     },
     "execution_count": 16,
     "metadata": {},
     "output_type": "execute_result"
    }
   ],
   "source": [
    "import torch\n",
    "device = torch.device(\"cuda\" if torch.cuda.is_available() else \"cpu\")\n",
    "device"
   ]
  },
  {
   "cell_type": "markdown",
   "id": "c7f64e58-c2e7-4965-9c86-f44e8c9959a9",
   "metadata": {},
   "source": [
    "## bi-encoder"
   ]
  },
  {
   "cell_type": "code",
   "execution_count": 17,
   "id": "9def8f6a-01b6-4c78-b27c-f7a571473fd5",
   "metadata": {},
   "outputs": [
    {
     "data": {
      "application/vnd.jupyter.widget-view+json": {
       "model_id": "766d3e224d7e48dfb77418b5527aab7f",
       "version_major": 2,
       "version_minor": 0
      },
      "text/plain": [
       "Batches:   0%|          | 0/10 [00:00<?, ?it/s]"
      ]
     },
     "metadata": {},
     "output_type": "display_data"
    }
   ],
   "source": [
    "from sentence_transformers import SentenceTransformer\n",
    "check_point = 'sentence-transformers/all-mpnet-base-v2'\n",
    "embedding_model = SentenceTransformer(check_point)\n",
    "embedding_model.to(device)\n",
    "embeddings = embedding_model.encode(all_chunks, show_progress_bar = True)"
   ]
  },
  {
   "cell_type": "markdown",
   "id": "7df9a93d-b33c-4d50-a0ee-0d4db5736248",
   "metadata": {},
   "source": [
    "# Vector Database"
   ]
  },
  {
   "cell_type": "markdown",
   "id": "d854cf4d-2c0c-4434-815f-6ecf723be2a9",
   "metadata": {},
   "source": [
    "| Feature | FAISS (Facebook AI Similarity Search) | ChromaDB |\n",
    "| :--- | :--- | :--- |\n",
    "| **Type** | High-performance C++ **Library** with Python bindings. | Developer-first, standalone **Database** (runs as a server or in-memory). |\n",
    "| **Primary Use Case** | Raw, ultra-fast similarity search on static, in-memory numerical vectors. | Building and managing the entire lifecycle of RAG applications. |\n",
    "| **Metadata Filtering** | **No built-in support.** Requires complex, manual post-filtering workarounds. | **Yes, native support.** Allows `where` clauses to filter by metadata before search. |\n",
    "| **Data Persistence** | **Manual.** You must explicitly save/load the index file. No database state. | **Automatic.** Manages storage for you, either in-memory or on disk. |\n",
    "| **API & Ecosystem** | Low-level API focused purely on vector indexing and search. | High-level, developer-friendly API. Client-server architecture. |\n",
    "| **Ease of Use** | More complex. Requires a deeper understanding of indexing algorithms. | **Extremely easy.** Designed for a fast and simple developer experience. |\n",
    "| **Scalability** | Can handle massive datasets on a single machine (CPU/GPU). | Designed for easier horizontal scaling with a client-server model. |\n",
    "| **Best for...** | Academic research, performance benchmarks, core of a larger system. | Prototyping, full-stack RAG applications, projects needing metadata filters. |"
   ]
  },
  {
   "cell_type": "code",
   "execution_count": 19,
   "id": "c7616f5c-ba51-4dae-9ebd-e66410c14162",
   "metadata": {},
   "outputs": [],
   "source": [
    "from langchain.vectorstores import FAISS\n",
    "from langchain.embeddings import HuggingFaceEmbeddings"
   ]
  },
  {
   "cell_type": "code",
   "execution_count": 20,
   "id": "6ecfc6f7-e7fc-4b03-9aef-cc22a67e1519",
   "metadata": {},
   "outputs": [
    {
     "name": "stderr",
     "output_type": "stream",
     "text": [
      "/tmp/ipykernel_1473/3693876817.py:1: LangChainDeprecationWarning: The class `HuggingFaceEmbeddings` was deprecated in LangChain 0.2.2 and will be removed in 1.0. An updated version of the class exists in the :class:`~langchain-huggingface package and should be used instead. To use it run `pip install -U :class:`~langchain-huggingface` and import as `from :class:`~langchain_huggingface import HuggingFaceEmbeddings``.\n",
      "  hf_embeddings = HuggingFaceEmbeddings(model_name = check_point)\n"
     ]
    }
   ],
   "source": [
    "hf_embeddings = HuggingFaceEmbeddings(model_name = check_point)\n",
    "vector_store = FAISS.from_texts(texts=all_chunks, embedding=hf_embeddings)"
   ]
  },
  {
   "cell_type": "code",
   "execution_count": 21,
   "id": "2644b23c-0ec1-4c1e-bfbd-9a0b832829e8",
   "metadata": {},
   "outputs": [
    {
     "name": "stdout",
     "output_type": "stream",
     "text": [
      "1.Question How much weight loss can be realistically expected on the keto plan? Answer:The maximum fat loss achievable per week on a keto diet is between one and two pounds. This realistic expectation is crucial to avoid discouragement when progress seems slow. It's important to prioritize other indicators of health improvement, such as energy levels, sleep quality, and digestion.\n",
      "\n",
      "---\n",
      "\n",
      "Thanks to contributors for their roles in the creation and refinement of the book's content and message.\n",
      "\n",
      "\n",
      "\n",
      " Best Quotes from The Healthy Keto Plan by Eric Berg with Page Numbers View on Bookey Website and Generate Beautiful Quote Images Chapter 1 | Quotes From Pages 10-17 1.If you are simply told what to eat and it doesn’t work for you, you’ll chalk up a loss and go on to the next diet, creating further losses, and then think there is a problem with you, that you have poor willpower. 2.Once a person has the background and understanding of HOW fat is burned and HOW health is created, they succeed. 3.The Healthy Keto Plan gives you the most effective leverage over weight loss because it addresses the very things that control weight loss—fat-burning hormones. 4.The secret is to align your actions with your body type until the results are consistent. 5.This is a lifestyle change, not just a diet you do to lose weight and then go back to junk foods.\n"
     ]
    }
   ],
   "source": [
    "query = \"How much kilo I can loss with keto plan?\"\n",
    "results_with_scores = vector_store.similarity_search_with_score(query, k=5)\n",
    "\n",
    "score_threshold = 0.9\n",
    "relevant_docs = [doc for doc, score in results_with_scores if score < score_threshold]\n",
    "\n",
    "\n",
    "if not relevant_docs:\n",
    "    print(\"No sufficiently similar answer was found for this question.\")\n",
    "else:\n",
    "    context_text = \"\\n\\n---\\n\\n\".join([doc.page_content for doc in relevant_docs])\n",
    "    print(context_text)"
   ]
  },
  {
   "cell_type": "markdown",
   "id": "2b722697-0f41-4f3b-82f7-aaceeee488cc",
   "metadata": {},
   "source": [
    "# Prompt\n",
    "we going to use api so we don't need to create a prompt.\n",
    "\n",
    "RetrievalQA already doing it for us.\n",
    "\n",
    "But i want to add it too."
   ]
  },
  {
   "cell_type": "markdown",
   "id": "66a7bc33-c1d7-4cef-b729-890c59a2157f",
   "metadata": {},
   "source": [
    "# Using LLM Model"
   ]
  },
  {
   "cell_type": "code",
   "execution_count": 22,
   "id": "c7b2e6f7-9960-40b5-9d88-89323a96517f",
   "metadata": {},
   "outputs": [],
   "source": [
    "import torch"
   ]
  },
  {
   "cell_type": "code",
   "execution_count": 23,
   "id": "06e72ff8-8b83-45f9-b48b-9a2b08a981ed",
   "metadata": {},
   "outputs": [
    {
     "name": "stdout",
     "output_type": "stream",
     "text": [
      "Fri Oct 17 11:55:59 2025       \n",
      "+-----------------------------------------------------------------------------------------+\n",
      "| NVIDIA-SMI 575.65                 Driver Version: 577.03         CUDA Version: 12.9     |\n",
      "|-----------------------------------------+------------------------+----------------------+\n",
      "| GPU  Name                 Persistence-M | Bus-Id          Disp.A | Volatile Uncorr. ECC |\n",
      "| Fan  Temp   Perf          Pwr:Usage/Cap |           Memory-Usage | GPU-Util  Compute M. |\n",
      "|                                         |                        |               MIG M. |\n",
      "|=========================================+========================+======================|\n",
      "|   0  NVIDIA GeForce RTX 3050 ...    On  |   00000000:01:00.0 Off |                  N/A |\n",
      "| N/A   50C    P0             40W /   70W |    1543MiB /   6144MiB |      3%      Default |\n",
      "|                                         |                        |                  N/A |\n",
      "+-----------------------------------------+------------------------+----------------------+\n",
      "                                                                                         \n",
      "+-----------------------------------------------------------------------------------------+\n",
      "| Processes:                                                                              |\n",
      "|  GPU   GI   CI              PID   Type   Process name                        GPU Memory |\n",
      "|        ID   ID                                                               Usage      |\n",
      "|=========================================================================================|\n",
      "|    0   N/A  N/A            1473      C   /python3.10                           N/A      |\n",
      "+-----------------------------------------------------------------------------------------+\n"
     ]
    },
    {
     "name": "stderr",
     "output_type": "stream",
     "text": [
      "huggingface/tokenizers: The current process just got forked, after parallelism has already been used. Disabling parallelism to avoid deadlocks...\n",
      "To disable this warning, you can either:\n",
      "\t- Avoid using `tokenizers` before the fork if possible\n",
      "\t- Explicitly set the environment variable TOKENIZERS_PARALLELISM=(true | false)\n"
     ]
    }
   ],
   "source": [
    "!Nvidia-smi"
   ]
  },
  {
   "cell_type": "code",
   "execution_count": 24,
   "id": "8eff3cd1-7899-4485-92fe-c95ae945f1fb",
   "metadata": {},
   "outputs": [
    {
     "data": {
      "text/plain": [
       "3667"
      ]
     },
     "execution_count": 24,
     "metadata": {},
     "output_type": "execute_result"
    }
   ],
   "source": [
    "import gc # Garbage Collector \n",
    "\n",
    "del embedding_model\n",
    "\n",
    "torch.cuda.empty_cache()\n",
    "\n",
    "gc.collect()"
   ]
  },
  {
   "cell_type": "code",
   "execution_count": 25,
   "id": "84e44f3d-7004-4e15-80e6-d591a2675408",
   "metadata": {},
   "outputs": [
    {
     "name": "stdout",
     "output_type": "stream",
     "text": [
      "Fri Oct 17 11:56:00 2025       \n",
      "+-----------------------------------------------------------------------------------------+\n",
      "| NVIDIA-SMI 575.65                 Driver Version: 577.03         CUDA Version: 12.9     |\n",
      "|-----------------------------------------+------------------------+----------------------+\n",
      "| GPU  Name                 Persistence-M | Bus-Id          Disp.A | Volatile Uncorr. ECC |\n",
      "| Fan  Temp   Perf          Pwr:Usage/Cap |           Memory-Usage | GPU-Util  Compute M. |\n",
      "|                                         |                        |               MIG M. |\n",
      "|=========================================+========================+======================|\n",
      "|   0  NVIDIA GeForce RTX 3050 ...    On  |   00000000:01:00.0 Off |                  N/A |\n",
      "| N/A   49C    P0             21W /   61W |    1023MiB /   6144MiB |      0%      Default |\n",
      "|                                         |                        |                  N/A |\n",
      "+-----------------------------------------+------------------------+----------------------+\n",
      "                                                                                         \n",
      "+-----------------------------------------------------------------------------------------+\n",
      "| Processes:                                                                              |\n",
      "|  GPU   GI   CI              PID   Type   Process name                        GPU Memory |\n",
      "|        ID   ID                                                               Usage      |\n",
      "|=========================================================================================|\n",
      "|    0   N/A  N/A            1473      C   /python3.10                           N/A      |\n",
      "+-----------------------------------------------------------------------------------------+\n"
     ]
    },
    {
     "name": "stderr",
     "output_type": "stream",
     "text": [
      "huggingface/tokenizers: The current process just got forked, after parallelism has already been used. Disabling parallelism to avoid deadlocks...\n",
      "To disable this warning, you can either:\n",
      "\t- Avoid using `tokenizers` before the fork if possible\n",
      "\t- Explicitly set the environment variable TOKENIZERS_PARALLELISM=(true | false)\n"
     ]
    }
   ],
   "source": [
    "!Nvidia-smi"
   ]
  },
  {
   "cell_type": "markdown",
   "id": "9b1ce514-c707-4f2a-be77-8704ecbcbdf9",
   "metadata": {},
   "source": [
    "# Building the QA Pipeline: Retrieval & Generation\n",
    "\n",
    "This section combines our retriever with a Large Language Model (LLM) to form the complete question-answering chain."
   ]
  },
  {
   "cell_type": "code",
   "execution_count": 26,
   "id": "00a91b39-cf95-4a9b-8886-4ab41494a33c",
   "metadata": {
    "scrolled": true
   },
   "outputs": [
    {
     "name": "stderr",
     "output_type": "stream",
     "text": [
      "WARNING: All log messages before absl::InitializeLog() is called are written to STDERR\n",
      "E0000 00:00:1760691360.834998    1473 alts_credentials.cc:93] ALTS creds ignored. Not running on GCP and untrusted ALTS is not enabled.\n"
     ]
    },
    {
     "name": "stdout",
     "output_type": "stream",
     "text": [
      "models/embedding-gecko-001\n",
      "models/gemini-2.5-pro-preview-03-25\n",
      "models/gemini-2.5-flash-preview-05-20\n",
      "models/gemini-2.5-flash\n",
      "models/gemini-2.5-flash-lite-preview-06-17\n",
      "models/gemini-2.5-pro-preview-05-06\n",
      "models/gemini-2.5-pro-preview-06-05\n",
      "models/gemini-2.5-pro\n",
      "models/gemini-2.0-flash-exp\n",
      "models/gemini-2.0-flash\n",
      "models/gemini-2.0-flash-001\n",
      "models/gemini-2.0-flash-exp-image-generation\n",
      "models/gemini-2.0-flash-lite-001\n",
      "models/gemini-2.0-flash-lite\n",
      "models/gemini-2.0-flash-preview-image-generation\n",
      "models/gemini-2.0-flash-lite-preview-02-05\n",
      "models/gemini-2.0-flash-lite-preview\n",
      "models/gemini-2.0-pro-exp\n",
      "models/gemini-2.0-pro-exp-02-05\n",
      "models/gemini-exp-1206\n",
      "models/gemini-2.0-flash-thinking-exp-01-21\n",
      "models/gemini-2.0-flash-thinking-exp\n",
      "models/gemini-2.0-flash-thinking-exp-1219\n",
      "models/gemini-2.5-flash-preview-tts\n",
      "models/gemini-2.5-pro-preview-tts\n",
      "models/learnlm-2.0-flash-experimental\n",
      "models/gemma-3-1b-it\n",
      "models/gemma-3-4b-it\n",
      "models/gemma-3-12b-it\n",
      "models/gemma-3-27b-it\n",
      "models/gemma-3n-e4b-it\n",
      "models/gemma-3n-e2b-it\n",
      "models/gemini-flash-latest\n",
      "models/gemini-flash-lite-latest\n",
      "models/gemini-pro-latest\n",
      "models/gemini-2.5-flash-lite\n",
      "models/gemini-2.5-flash-image-preview\n",
      "models/gemini-2.5-flash-image\n",
      "models/gemini-2.5-flash-preview-09-2025\n",
      "models/gemini-2.5-flash-lite-preview-09-2025\n",
      "models/gemini-robotics-er-1.5-preview\n",
      "models/gemini-2.5-computer-use-preview-10-2025\n",
      "models/embedding-001\n",
      "models/text-embedding-004\n",
      "models/gemini-embedding-exp-03-07\n",
      "models/gemini-embedding-exp\n",
      "models/gemini-embedding-001\n",
      "models/aqa\n",
      "models/imagen-3.0-generate-002\n",
      "models/imagen-4.0-generate-preview-06-06\n",
      "models/imagen-4.0-ultra-generate-preview-06-06\n",
      "models/imagen-4.0-generate-001\n",
      "models/imagen-4.0-ultra-generate-001\n",
      "models/imagen-4.0-fast-generate-001\n",
      "models/veo-2.0-generate-001\n",
      "models/veo-3.0-generate-preview\n",
      "models/veo-3.0-fast-generate-preview\n",
      "models/veo-3.0-generate-001\n",
      "models/veo-3.0-fast-generate-001\n",
      "models/veo-3.1-generate-preview\n",
      "models/veo-3.1-fast-generate-preview\n",
      "models/gemini-2.5-flash-preview-native-audio-dialog\n",
      "models/gemini-2.5-flash-exp-native-audio-thinking-dialog\n",
      "models/gemini-2.0-flash-live-001\n",
      "models/gemini-live-2.5-flash-preview\n",
      "models/gemini-2.5-flash-live-preview\n",
      "models/gemini-2.5-flash-native-audio-latest\n",
      "models/gemini-2.5-flash-native-audio-preview-09-2025\n"
     ]
    }
   ],
   "source": [
    "import google.generativeai as genai\n",
    "\n",
    "genai.configure(api_key=\"AIzaSyA_XXXXXXXXXXXXXXXXXXXXXXXXXXXXXXXX\")\n",
    "\n",
    "models = genai.list_models()\n",
    "for m in models:\n",
    "    print(m.name)\n"
   ]
  },
  {
   "cell_type": "code",
   "execution_count": 27,
   "id": "0af35e92-7b72-45bb-9767-062b7f297b0e",
   "metadata": {},
   "outputs": [],
   "source": [
    "prompt_template_string = \"\"\"\n",
    "CONTEXT:\n",
    "{context}\n",
    "\n",
    "QUESTION:\n",
    "{question}\n",
    "\n",
    "INSTRUCTIONS:\n",
    "Act as a helpful expert. Provide a clear and direct answer to the question using only the information in the context.\n",
    "- You can perform simple calculations like unit conversions (e.g., pounds to kg) to make the answer more helpful.\n",
    "- If the answer is not in the context, state that the document does not contain this information.\n",
    "- Answer directly without starting your response with \"Based on the context....\n",
    "\"\"\""
   ]
  },
  {
   "cell_type": "code",
   "execution_count": 103,
   "id": "9e97dd10-5666-4634-a6c0-04149ae09791",
   "metadata": {},
   "outputs": [
    {
     "name": "stderr",
     "output_type": "stream",
     "text": [
      "E0000 00:00:1760703862.150451    1473 alts_credentials.cc:93] ALTS creds ignored. Not running on GCP and untrusted ALTS is not enabled.\n"
     ]
    }
   ],
   "source": [
    "import os\n",
    "from langchain_google_genai import ChatGoogleGenerativeAI\n",
    "from langchain.chains import RetrievalQA\n",
    "from langchain.prompts import PromptTemplate\n",
    "\n",
    "os.environ[\"GOOGLE_API_KEY\"] = \"AIzaSyAXXXXXXXXXXXXXXXXXXXXXXXXXXXXXXXXXX\"\n",
    "\n",
    "\n",
    "llm = ChatGoogleGenerativeAI(model=\"gemini-2.0-flash\") #gemini-2.0-flash\n",
    "\n",
    "\n",
    "custom_prompt = PromptTemplate(\n",
    "    template=prompt_template_string,\n",
    "    input_variables = [\"context\", \"question\"]\n",
    ")\n",
    "\n",
    "\n",
    "def creae_qa_chain(retriever):\n",
    "    \"\"\"\n",
    "    Create a new RetrivalQA with using given retriver\n",
    "    \"\"\"\n",
    "    print(f\"New QA Chain creating with : {type(retriever).__name__}\" )\n",
    "    return RetrievalQA.from_chain_type(\n",
    "        llm = llm,\n",
    "        chain_type = \"stuff\", # it will return us :{context} and  {question}\n",
    "        retriever = retriever,\n",
    "        chain_type_kwargs={\"prompt\": custom_prompt}\n",
    "    )"
   ]
  },
  {
   "cell_type": "markdown",
   "id": "7ce4f618-367f-43f6-a0cc-7601733b83c8",
   "metadata": {},
   "source": [
    "# Testing"
   ]
  },
  {
   "cell_type": "code",
   "execution_count": 48,
   "id": "9a4a4187-e7cd-46eb-a57b-1456b0cb9df4",
   "metadata": {},
   "outputs": [
    {
     "name": "stdout",
     "output_type": "stream",
     "text": [
      "New QA Chain creating with : VectorStoreRetriever\n"
     ]
    }
   ],
   "source": [
    "faiss_retriever = vector_store.as_retriever(\n",
    "    search_type=\"similarity\",\n",
    "    search_kwargs={'k': 4}\n",
    ")\n",
    "\n",
    "qa_chain =  creae_qa_chain(faiss_retriever)"
   ]
  },
  {
   "cell_type": "code",
   "execution_count": 49,
   "id": "317de0e8-b83f-463c-b9b3-98156ed362a9",
   "metadata": {},
   "outputs": [
    {
     "name": "stdout",
     "output_type": "stream",
     "text": [
      "The maximum fat loss achievable per week on a keto diet is between 0.45 and 0.9 kilograms.\n"
     ]
    }
   ],
   "source": [
    "question = \"How much kilo I can loss with keto plan?\"\n",
    "response = qa_chain.invoke({\"query\": question})\n",
    "\n",
    "print(response['result'])"
   ]
  },
  {
   "cell_type": "code",
   "execution_count": 50,
   "id": "fc56f139-484b-4703-9912-10acedabb37e",
   "metadata": {},
   "outputs": [
    {
     "name": "stdout",
     "output_type": "stream",
     "text": [
      "The document does not contain a definition of what the keto diet is. It discusses \"Healthy Ketosis™\" and mentions \"Ketogenic Diet\" in comparison, but does not describe the general keto diet itself.\n"
     ]
    }
   ],
   "source": [
    "question = \"What is the keto diet?\"\n",
    "response = qa_chain.invoke({\"query\": question})\n",
    "\n",
    "print(response['result'])"
   ]
  },
  {
   "cell_type": "markdown",
   "id": "8ac7cbc8-69a0-4375-8edf-91165470f7fe",
   "metadata": {},
   "source": [
    "#### I want to ask a question is not about keto"
   ]
  },
  {
   "cell_type": "code",
   "execution_count": 31,
   "id": "f1eb27b5-1514-4716-8e3e-fc5b27e546f6",
   "metadata": {},
   "outputs": [
    {
     "name": "stdout",
     "output_type": "stream",
     "text": [
      "The document does not contain information about the benefits of being an Engineer in 2025.\n"
     ]
    }
   ],
   "source": [
    "question = \"What are the benefits of being an Engineer in 2025?\"\n",
    "response = qa_chain.invoke({\"query\": question})\n",
    "\n",
    "print(response['result'])"
   ]
  },
  {
   "cell_type": "code",
   "execution_count": 32,
   "id": "fed2bf13-ec45-4431-8f72-5c6dc3e54e06",
   "metadata": {},
   "outputs": [
    {
     "name": "stdout",
     "output_type": "stream",
     "text": [
      "The document does not contain information on what happens if you drink too much water.\n"
     ]
    }
   ],
   "source": [
    "question = \"What happens if I drink too much water?\"\n",
    "response = qa_chain.invoke({\"query\": question})\n",
    "\n",
    "print(response['result'])"
   ]
  },
  {
   "cell_type": "code",
   "execution_count": 33,
   "id": "eb8ae931-6e0f-493f-80b0-28d935b973a9",
   "metadata": {},
   "outputs": [
    {
     "data": {
      "text/plain": [
       "{'query': 'What happens if I drink too much water?',\n",
       " 'result': 'The document does not contain information on what happens if you drink too much water.'}"
      ]
     },
     "execution_count": 33,
     "metadata": {},
     "output_type": "execute_result"
    }
   ],
   "source": [
    "response"
   ]
  },
  {
   "cell_type": "code",
   "execution_count": 34,
   "id": "a0f87b52-55e6-410f-807d-7936bfbc1cf5",
   "metadata": {},
   "outputs": [
    {
     "data": {
      "text/plain": [
       "{'query': 'What is the best benefit of doing Healthy Ketosis?',\n",
       " 'result': 'The best benefit of doing Healthy Ketosis is the enhancement of seven health factors: Energy, Sleep, Stress tolerance, Reduced cravings, Digestion, Reduced inflammation, and Reduced waist size. It also leads to improved metabolic health, optimizes overall health, and provides a more efficient fuel source for the body, especially for the brain.'}"
      ]
     },
     "execution_count": 34,
     "metadata": {},
     "output_type": "execute_result"
    }
   ],
   "source": [
    "question = \"What is the best benefit of doing Healthy Ketosis?\"\n",
    "response = qa_chain.invoke({\"query\": question})\n",
    "response"
   ]
  },
  {
   "cell_type": "markdown",
   "id": "eb3271cf-22c7-497e-9e28-c555cc4bf520",
   "metadata": {},
   "source": [
    "My vram just 6gb so it is hard to use a model locally so i will use an api "
   ]
  },
  {
   "cell_type": "code",
   "execution_count": 35,
   "id": "158a1f61-8487-4fe3-84e4-731a2c759292",
   "metadata": {},
   "outputs": [],
   "source": [
    "#from transformers import AutoTokenizer, AutoModelForCausalLM, pipeline, BitsAndBytesConfig\n",
    "#from langchain.llms import HuggingFacePipeline\n",
    "#from langchain.chains import RetrievalQA\n",
    "#\n",
    "#\n",
    "## --- MISTRAL 7B (4-BIT QUANTIZED) ---\n",
    "#\n",
    "#model_id = \"mistralai/Mistral-7B-Instruct-v0.2\"\n",
    "#\n",
    "## 4-bit quantization settings\n",
    "#quantization_config = BitsAndBytesConfig(\n",
    "#    load_in_4bit=True,\n",
    "#    bnb_4bit_compute_dtype=torch.bfloat16\n",
    "#)\n",
    "#attn_implementation = \"sdpa\" # Start with the safe default\n",
    "#try:\n",
    "#    # Attempt to load the model with the faster Flash Attention 2\n",
    "#    print(\"Attempting to load model with Flash Attention 2...\")\n",
    "#    model = AutoModelForCausalLM.from_pretrained(\n",
    "#        model_id,\n",
    "#        quantization_config=quantization_config,\n",
    "#        low_cpu_mem_usage = False,\n",
    "#        device_map=\"auto\",\n",
    "#        attn_implementation=\"flash_attention_2\"\n",
    "#    )\n",
    "#    attn_implementation = \"flash_attention_2\" # Update if successful\n",
    "#    print(\"✅ Successfully loaded model with Flash Attention 2.\")\n",
    "#except (ImportError, ValueError) as e:\n",
    "#    # If it fails, fall back to the standard implementation\n",
    "#    print(f\"⚠️ Could not load with Flash Attention 2 due to: {e}\")\n",
    "#    print(\"Falling back to the standard 'sdpa' attention mechanism.\")\n",
    "#    model = AutoModelForCausalLM.from_pretrained(\n",
    "#        model_id,\n",
    "#        quantization_config=quantization_config,\n",
    "#        low_cpu_mem_usage = False,\n",
    "#        device_map=\"auto\",\n",
    "#        attn_implementation=\"sdpa\"\n",
    "#    )\n",
    "#\n",
    "#tokenizer = AutoTokenizer.from_pretrained(model_id)\n",
    "#\n",
    "## Pipeline ve RAG zinciri oluşturma\n",
    "#\n",
    "#pipe = pipeline(\n",
    "#    \"text-generation\", \n",
    "#    model=model, \n",
    "#    tokenizer=tokenizer, \n",
    "#    max_new_tokens=512\n",
    "#)\n",
    "#llm = HuggingFacePipeline(pipeline=pipe)\n",
    "#\n",
    "#qa_chain = RetrievalQA.from_chain_type(\n",
    "#    llm=llm,\n",
    "#    chain_type=\"stuff\",\n",
    "#    retriever=vector_store.as_retriever()\n",
    "#)"
   ]
  },
  {
   "cell_type": "markdown",
   "id": "b9bdfb3c-55bd-479d-a646-b21ab74405c7",
   "metadata": {},
   "source": [
    "# More Advanced Retrieval Strategies:"
   ]
  },
  {
   "cell_type": "code",
   "execution_count": 51,
   "id": "1c99fb89-ed82-4f5f-ae34-e713830b3cc2",
   "metadata": {},
   "outputs": [],
   "source": [
    "def chatgkn(query):\n",
    "    creae_qa_chain\n",
    "    response = qa_chain.invoke({\"query\": query})\n",
    "\n",
    "    print(response['result'])"
   ]
  },
  {
   "cell_type": "markdown",
   "id": "73988f9e-9cf0-487f-abbb-23430a6cb11f",
   "metadata": {},
   "source": [
    "## Hibrid search:\n",
    "\n",
    "Hibrid search mean is not only semantic search but also contains Keyword Search too . When searching for a specific name, it can sometimes be difficult. Because it generalizes the meaning, it can miss these specific keywords.\n",
    "So we should add **Keyword Searching** "
   ]
  },
  {
   "cell_type": "code",
   "execution_count": 37,
   "id": "a599d6aa-6742-4b41-a5c2-67e301f1a8b0",
   "metadata": {},
   "outputs": [],
   "source": [
    "#!pip install rank_bm25"
   ]
  },
  {
   "cell_type": "code",
   "execution_count": 53,
   "id": "7c431c27-89ed-4795-962e-7cb415714e9b",
   "metadata": {},
   "outputs": [
    {
     "name": "stdout",
     "output_type": "stream",
     "text": [
      "New QA Chain creating with : EnsembleRetriever\n"
     ]
    }
   ],
   "source": [
    "from langchain.retrievers import BM25Retriever,EnsembleRetriever\n",
    "bm25_retriver = BM25Retriever.from_texts(\n",
    "    texts = all_chunks,\n",
    "    metadatas=[{'source':i} for i in range(len(all_chunks))]\n",
    ")\n",
    "bm25_retriver.k = 4\n",
    "\n",
    "ensemble_retriever = EnsembleRetriever(\n",
    "    retrievers =[bm25_retriver,faiss_retriever],\n",
    "    weights = [0.3,0.7]\n",
    ")\n",
    "qa_chain = creae_qa_chain(ensemble_retriever)"
   ]
  },
  {
   "cell_type": "code",
   "execution_count": 54,
   "id": "76335dca-33c6-4b71-b907-5b79ec396385",
   "metadata": {},
   "outputs": [
    {
     "name": "stdout",
     "output_type": "stream",
     "text": [
      "Dr. Eric Berg is a prominent physician and health educator known for his expertise in ketogenic diets and weight management. With over 30 years of experience in chiropractic medicine and holistic health, he has dedicated his career to helping individuals achieve optimal health through nutritional strategies and lifestyle changes. He is the author of several bestselling books, including \"The Healthy Keto Plan,\" and is a trusted figure in the health and wellness community due to his approachable style and commitment to education. He has also shared his expertise through YouTube educational content and a keto summit.\n"
     ]
    }
   ],
   "source": [
    "chatgkn('Eric Berg?') #with hibrid semantic search"
   ]
  },
  {
   "cell_type": "code",
   "execution_count": 40,
   "id": "c41a7ddc-0b6c-4076-a4bd-f8b508f56195",
   "metadata": {},
   "outputs": [
    {
     "data": {
      "text/plain": [
       "'Dr. Eric Berg is a prominent physician and health educator with over 30 years of experience in chiropractic medicine and holistic health. He is known for his expertise in ketogenic diets and weight management, dedicating his career to helping individuals achieve optimal health through nutritional strategies and lifestyle changes. He is the author of several bestselling books, including \"The Healthy Keto Plan,\" which combines scientific research with practical advice. Dr. Berg is a trusted figure in the health and wellness community, recognized for his approachable style and passionate commitment to education.'"
      ]
     },
     "execution_count": 40,
     "metadata": {},
     "output_type": "execute_result"
    }
   ],
   "source": [
    "chatgkn('Eric Berg?') # with semantic search"
   ]
  },
  {
   "cell_type": "markdown",
   "id": "b4c4ce78-9e87-4612-b97e-ab40e94fd745",
   "metadata": {},
   "source": [
    "## Re-query:"
   ]
  },
  {
   "cell_type": "code",
   "execution_count": 61,
   "id": "ad37227c-583a-4bce-93af-e5817d232f35",
   "metadata": {},
   "outputs": [
    {
     "name": "stdout",
     "output_type": "stream",
     "text": [
      "New QA Chain creating with : MultiQueryRetriever\n"
     ]
    }
   ],
   "source": [
    "from langchain.retrievers.multi_query import MultiQueryRetriever\n",
    "import logging\n",
    "logging.basicConfig()\n",
    "logging.getLogger(\"langchain.retrievers.multi_query\").setLevel(logging.INFO)\n",
    "multiquery_esemble_retriever = MultiQueryRetriever.from_llm(\n",
    "    retriever = ensemble_retriever,\n",
    "    llm = llm\n",
    ")\n",
    "qa_chain = creae_qa_chain(multiquery_esemble_retriever)"
   ]
  },
  {
   "cell_type": "code",
   "execution_count": 57,
   "id": "bd6f2bd6-98ff-47eb-9b57-9f05cfbd2f3b",
   "metadata": {},
   "outputs": [
    {
     "name": "stdout",
     "output_type": "stream",
     "text": [
      "Sağlıklı Keto Planı'na göre, beslenme düzeninizde %70 yağ, %20 protein, %5 karbonhidrat ve %5 yapraklı yeşil sebzelere odaklanmalısınız. Yüksek kaliteli, organik, otla beslenmiş (grass-fed) ve vahşi yakalanmış (wild-caught) ürünleri tercih etmelisiniz. Şeker veya un içermeyen keto dostu çikolata, kurabiye ve dondurma gibi atıştırmalıklar da tüketilebilir.\n",
      "\n",
      "Ancak, belirli bir günlük yemek listesi veya \"bugün ne yesem\" sorusuna doğrudan yanıt verecek spesifik yiyecek örnekleri bu dokümanda bulunmamaktadır.\n"
     ]
    }
   ],
   "source": [
    "chatgkn('Bugun ne yesem keto diyeti yapmis olurum?') #as you see model understand foregein languages too."
   ]
  },
  {
   "cell_type": "code",
   "execution_count": 62,
   "id": "93bf1313-be8f-4d56-9749-01762d877622",
   "metadata": {},
   "outputs": [
    {
     "name": "stderr",
     "output_type": "stream",
     "text": [
      "INFO:langchain.retrievers.multi_query:Generated queries: ['1. What are the effects of having a cheat meal or day on the state of ketosis and the progress of a ketogenic diet?', '2. Are cheat days recommended or advised against for individuals following a ketogenic diet, according to nutrition guidelines?', \"3. How do concepts like refeed days or carb cycling relate to taking breaks from a strict ketogenic diet, as an alternative to a traditional 'cheat day'?\"]\n"
     ]
    },
    {
     "data": {
      "text/plain": [
       "{'query': 'Do we have a cheat day while on a ketogenic diet?',\n",
       " 'result': 'The document does not contain information suggesting that cheat days are allowed on the Healthy Keto Plan. Instead, it emphasizes strict adherence to low carb intake (5% of calories, 20-50 grams daily) to maintain ketosis and healthy insulin levels. To combat cravings, the plan recommends replacing unhealthy foods with keto-friendly alternatives like chocolate, cookies, and ice cream made without sugar or flour. The plan also advises against snacking and limits meals to two or three per day to prevent insulin spikes.'}"
      ]
     },
     "execution_count": 62,
     "metadata": {},
     "output_type": "execute_result"
    }
   ],
   "source": [
    "query = \"Do we have a cheat day while on a ketogenic diet?\"\n",
    "response = qa_chain.invoke({\"query\": query})\n",
    "response"
   ]
  },
  {
   "cell_type": "markdown",
   "id": "e2a9c173-3e9f-4bd5-80f2-d077bc5df151",
   "metadata": {},
   "source": [
    "## Chat Memory:"
   ]
  },
  {
   "cell_type": "code",
   "execution_count": 64,
   "id": "4a6c15ca-a06a-409e-bbe0-21458731f8eb",
   "metadata": {},
   "outputs": [],
   "source": [
    "from langchain.memory import ConversationBufferWindowMemory\n",
    "from langchain.chains import ConversationalRetrievalChain"
   ]
  },
  {
   "cell_type": "code",
   "execution_count": 104,
   "id": "1914eefc-e738-492e-a6ed-84a39a582097",
   "metadata": {},
   "outputs": [
    {
     "name": "stdout",
     "output_type": "stream",
     "text": [
      "New Conversational QA Chain creating with: MultiQueryRetriever\n"
     ]
    }
   ],
   "source": [
    "def create_conversational_qa_chain(retriever):\n",
    "    \"\"\"\n",
    "    Creates a new ConversationalRetrievalChain with a given retriever and memory.\n",
    "    \"\"\"\n",
    "    print(f\"New Conversational QA Chain creating with: {type(retriever).__name__}\")\n",
    "\n",
    "    memory = ConversationBufferWindowMemory(\n",
    "        k=5,\n",
    "        memory_key=\"chat_history\",\n",
    "        return_messages=True,\n",
    "        output_key = \"answer\"\n",
    "    )\n",
    "\n",
    "    conversational_chain = ConversationalRetrievalChain.from_llm(\n",
    "        llm=llm,\n",
    "        chain_type='stuff',\n",
    "        retriever=retriever,\n",
    "        memory=memory,\n",
    "        combine_docs_chain_kwargs={\"prompt\": custom_prompt},\n",
    "        verbose=False,\n",
    "        return_source_documents = True\n",
    "        \n",
    "    )\n",
    "    return conversational_chain\n",
    "    \n",
    "qa_chain = create_conversational_qa_chain(multiquery_esemble_retriever)"
   ]
  },
  {
   "cell_type": "code",
   "execution_count": 108,
   "id": "ec7aefb7-2f6e-4d8c-94a5-1749d666301f",
   "metadata": {},
   "outputs": [
    {
     "name": "stderr",
     "output_type": "stream",
     "text": [
      "INFO:langchain.retrievers.multi_query:Generated queries: ['Explain the ketogenic diet.', 'How does a ketogenic eating plan work?', 'What are the core principles of a very low-carbohydrate, high-fat diet?']\n"
     ]
    },
    {
     "name": "stdout",
     "output_type": "stream",
     "text": [
      "The recommended ketogenic diet, called Healthy Ketosis™, focuses on high-quality, nutrient-dense foods, relying on ketone fuel instead of carbs. A daily carb intake of 20 to 50 grams helps the body utilize fat for energy. The proposed macronutrient breakdown is 70% fat, 20% protein, 5% carbohydrates, and 5% leafy green vegetables.\n"
     ]
    }
   ],
   "source": [
    "question = \"What is the keto diet?\"\n",
    "response = qa_chain.invoke({\"question\": question})\n",
    "\n",
    "print(response['answer'])"
   ]
  },
  {
   "cell_type": "code",
   "execution_count": 105,
   "id": "68ffc94f-69e4-402d-896b-7aeefee55213",
   "metadata": {},
   "outputs": [
    {
     "name": "stderr",
     "output_type": "stream",
     "text": [
      "INFO:langchain.retrievers.multi_query:Generated queries: ['Are cheat meals or refeed days compatible with a ketogenic diet?', 'What are the effects of consuming non-keto foods for a day on the state of ketosis?', 'Is it advisable to have planned breaks from strict carbohydrate restriction on a keto diet?']\n"
     ]
    },
    {
     "data": {
      "text/plain": [
       "'The document does not contain this information.'"
      ]
     },
     "execution_count": 105,
     "metadata": {},
     "output_type": "execute_result"
    }
   ],
   "source": [
    "query = \"Do we have a cheat day while on a ketogenic diet?\"\n",
    "response = qa_chain.invoke({\"question\": query})\n",
    "response['answer']"
   ]
  },
  {
   "cell_type": "code",
   "execution_count": 92,
   "id": "134edb3f-7bf7-4c08-96b5-fda3c4efa393",
   "metadata": {},
   "outputs": [
    {
     "data": {
      "text/plain": [
       "dict_keys(['question', 'chat_history', 'answer', 'source_documents'])"
      ]
     },
     "execution_count": 92,
     "metadata": {},
     "output_type": "execute_result"
    }
   ],
   "source": [
    "response.keys()"
   ]
  },
  {
   "cell_type": "code",
   "execution_count": 90,
   "id": "5e859a65-b7cb-4d67-81a4-66aac3e8b592",
   "metadata": {},
   "outputs": [
    {
     "name": "stderr",
     "output_type": "stream",
     "text": [
      "INFO:langchain.retrievers.multi_query:Generated queries: ['Healthy keto snack ideas to curb food cravings.', 'Nutritious low-carb options for satisfying sweet or salty cravings on a ketogenic diet.', 'Effective ketogenic foods and methods to reduce hunger and prevent unhealthy snacking.']\n"
     ]
    },
    {
     "data": {
      "text/plain": [
       "'To combat cravings for unhealthy foods, the Healthy Keto Plan suggests replacing them with healthier alternatives such as keto-friendly treats like chocolate, cookies, and ice cream made without sugar or flour. For sweet cravings, natural substitutes like stevia, xylitol, or erythritol can be used sparingly for special occasions. Additionally, focusing on nutrient-dense, satisfying whole foods can help reduce cravings.'"
      ]
     },
     "execution_count": 90,
     "metadata": {},
     "output_type": "execute_result"
    }
   ],
   "source": [
    "follow_up_query = \"Okay, tell me the alternatives\"\n",
    "\n",
    "response = qa_chain.invoke({\"question\": follow_up_query})\n",
    "response['answer']"
   ]
  },
  {
   "cell_type": "code",
   "execution_count": 74,
   "id": "7802f9a6-86f2-436f-9672-457e19435ac4",
   "metadata": {},
   "outputs": [
    {
     "name": "stdout",
     "output_type": "stream",
     "text": [
      "Here are some healthier, keto-friendly alternatives:\n",
      "\n",
      "*   **For pasta:** Use spaghetti squash or zucchini to create Zucchini Pasta.\n",
      "*   **For mashed potatoes:** Use cauliflower to create Cauliflower Mashed.\n",
      "*   **For sugar:** Use stevia, xylitol, and erythritol.\n",
      "*   **For traditional comfort foods:** Substitute high-carb ingredients with vegetables or nuts.\n",
      "*   **To enhance meals:** Utilize flavorful herbs, spices, healthy fats (like avocados, nuts, olive oil), crunchy textures like nuts in salads, and creamy dressings.\n",
      "*   **For protein sources:** Choose high-quality options like chicken, fish, and eggs.\n",
      "*   **For omelet fillings:** Include vegetables (like spinach and peppers), meats (like ground turkey or chicken), and dairy (like cheese or cream).\n"
     ]
    }
   ],
   "source": [
    "print(response['answer'])"
   ]
  },
  {
   "cell_type": "markdown",
   "id": "21ccbb4d-e625-4711-a7ac-ee0a36f41a16",
   "metadata": {},
   "source": [
    "# Evaluate Your RAG Pipeline\n",
    "**RAGAs** will score your system on a scale of 0 to 1 (higher is better) for several critical aspects:\n",
    "\n",
    "**Faithfulness**: This measures how factually accurate the generated answer is based only on the provided context. A low faithfulness score means the model is hallucinating or making things up.\n",
    "\n",
    "**Answer Relevancy:** This checks if the generated answer is actually relevant to the user's question. A low score here means the model might be giving a factually correct but off-topic answer.\n",
    "\n",
    "**Context Precision:** This evaluates the signal-to-noise ratio in your retrieved context. It answers: \"Of all the chunks retrieved, how many were actually useful for answering the question?\"\n",
    "\n",
    "**Context Recall:** This measures if your retriever found all the necessary information to answer the question. It answers: \"Did you miss any important chunks of information?\""
   ]
  },
  {
   "cell_type": "code",
   "execution_count": 76,
   "id": "eb131261-74ab-4c32-8b69-e246ce20fd1d",
   "metadata": {},
   "outputs": [],
   "source": [
    "eval_questions = [\n",
    "    # --- Basic Concepts & Numbers ---\n",
    "    \"How much weight can I expect to lose per week in terms of fat?\",\n",
    "    \"What is the recommended daily carbohydrate intake for Healthy Ketosis™?\",\n",
    "    \"What are the seven health factors the plan aims to improve, besides weight loss?\",\n",
    "    \"According to Dr. Berg, what is the true purpose of food?\",\n",
    "    \"Why are snacks discouraged on this plan?\",\n",
    "    \"What is the difference between Healthy Ketosis™ and a standard Ketogenic Diet?\",\n",
    "\n",
    "    # --- Body Type Specifics ---\n",
    "    \"What are the main physical characteristics of the Adrenal body type?\",\n",
    "    \"What kind of exercise is recommended for someone with an Adrenal body type to start with?\",\n",
    "    \"What causes the 'saddlebag' appearance in the Ovary body type?\",\n",
    "    \"A sluggish thyroid can lead to cravings for what type of food?\",\n",
    "    \"What are the best foods for the liver?\",\n",
    "    \"How does a damaged liver affect hormonal balance?\",\n",
    "\n",
    "    # --- Dietary Specifics (What to eat/avoid) ---\n",
    "    \"What can be used as a healthy alternative to mashed potatoes?\",\n",
    "    \"Are fruits allowed on the eating plan for weight loss?\",\n",
    "    \"Why are eggs considered a 'perfect food'?\",\n",
    "    \"What are some acceptable sugar substitutes mentioned in the book?\",\n",
    "    \"What types of fish should be avoided due to high mercury content?\",\n",
    "\n",
    "    # --- Troubleshooting & Lifestyle ---\n",
    "    \"What should I do if I feel more tired after starting the plan?\",\n",
    "    \"How does stress prevent the body from burning fat?\",\n",
    "    \"Why is quality sleep essential for losing weight?\",\n",
    "    \"What is the most common reason for sleep problems?\",\n",
    "    \"What are the recommended fillings for a nutritious omelet?\",\n",
    "    \"How can one avoid eating out of boredom?\",\n",
    "    \"What are the benefits of broccoli sprouts?\"\n",
    "]"
   ]
  },
  {
   "cell_type": "code",
   "execution_count": 78,
   "id": "b3fe4e42-5b71-43e7-baef-b0911d276dff",
   "metadata": {},
   "outputs": [],
   "source": [
    "eval_answers = [\n",
    "    # --- Answers for Basic Concepts & Numbers ---\n",
    "    \"The maximum fat loss achievable per week is between one and two pounds.\",\n",
    "    \"The recommended daily carb intake is 20 to 50 grams.\",\n",
    "    \"The seven health factors are: Energy, Sleep, Stress tolerance, Reduced cravings, Digestion, Reduced inflammation, and Reduced waist size.\",\n",
    "    \"The purpose of food is to sustain life, provide nourishment, and promote tissue repair, rather than just being a source of pleasure.\",\n",
    "    \"Snacks are discouraged because every time you eat, you trigger insulin, which hinders fat burning. The goal is to let your body use its own fat stores for energy between meals.\",\n",
    "    \"Healthy Ketosis™ is different because it emphasizes not just macronutrients but also micronutrients, with a focus on high-quality, nutrient-dense foods like vegetables to optimize overall health.\",\n",
    "\n",
    "    # --- Answers for Body Type Specifics ---\n",
    "    \"The main characteristics are excessive abdominal fat (a pendulous abdomen), a fat pad on the lower neck known as a 'buffalo hump,' and fat accumulation in the face, creating a 'moon face.'\",\n",
    "    \"Adrenal body types should start with low-intensity aerobic exercises, like walking, to avoid over-stimulating the adrenal glands.\",\n",
    "    \"Excess estrogen from dysfunctional ovaries leads to increased fat deposits around the hips, thighs, and lower abdomen, resulting in a 'saddlebag' appearance.\",\n",
    "    \"Individuals with a sluggish thyroid often crave refined carbohydrates such as bread, sugar, pastries, and pasta.\",\n",
    "    \"The best foods for the liver are raw cruciferous vegetables and small amounts of lean, high-quality proteins.\",\n",
    "    \"A damaged liver can disrupt hormone levels, causing issues such as excessive estrogen, which can lead to weight gain and mood changes.\",\n",
    "\n",
    "    # --- Answers for Dietary Specifics (What to eat/avoid) ---\n",
    "    \"Cauliflower can be used to create 'Cauliflower Mashed' as a healthy alternative to mashed potatoes.\",\n",
    "    \"No, fruits are generally high in sugar and should be avoided for weight loss, with the exception of lemons, limes, and small amounts of berries after reaching weight goals.\",\n",
    "    \"Eggs are considered highly nutritious, easy to digest, beneficial for liver function, and do not negatively impact blood cholesterol levels.\",\n",
    "    \"Acceptable sugar substitutes include stevia, xylitol, and erythritol.\",\n",
    "    \"You should steer clear of high-mercury fish such as shark or swordfish.\",\n",
    "\n",
    "    # --- Answers for Troubleshooting & Lifestyle ---\n",
    "    \"Increased fatigue can be due to a depletion of B vitamins caused by fat burning. Taking non-fortified nutritional yeast can help replenish these vitamins.\",\n",
    "    \"Stress raises cortisol levels, a hormone that increases blood sugar, blocks fat from being burned, and promotes fat storage, particularly around the abdomen.\",\n",
    "    \"Quality sleep, particularly deep sleep, is essential because it activates the fat-burning growth hormone, which peaks during sleep cycles.\",\n",
    "    \"The most common reason for sleep problems is overactive adrenal glands causing the body to be in a stress mode.\",\n",
    "    \"Nutritious fillings for omelets include vegetables like spinach and peppers, meats like ground turkey or chicken, and dairy like cheese or cream.\",\n",
    "    \"To avoid eating out of boredom, one should keep busy with activities instead of sitting idle.\",\n",
    "    \"Broccoli sprouts have significantly higher concentrations of nutrients that aid detoxification and contain cancer-fighting enzymes compared to mature broccoli.\"\n",
    "]"
   ]
  },
  {
   "cell_type": "code",
   "execution_count": 109,
   "id": "01018068-2e5c-460e-b78b-ccd45391c268",
   "metadata": {},
   "outputs": [],
   "source": [
    "from tqdm import tqdm\n",
    "logging.getLogger(\"langchain.retrievers.multi_query\").setLevel(logging.WARNING)\n",
    "results = []\n",
    "for query in eval_questions:\n",
    "    response = qa_chain.invoke({'question':query})\n",
    "    results.append(response)\n",
    "\n",
    "generated_answers = [r['answer']for r in results]\n",
    "contexts = [[doc.page_content for doc in r['source_documents']] for r in results]"
   ]
  },
  {
   "cell_type": "code",
   "execution_count": 113,
   "id": "f85bf459-3680-413c-bcc5-ae77055e85a2",
   "metadata": {},
   "outputs": [],
   "source": [
    "from datasets import Dataset\n",
    "\n",
    "data_samples = {\n",
    "    'question': eval_questions,\n",
    "    \"answer\": generated_answers,\n",
    "    \"retrieved_contexts\": contexts,\n",
    "    \"ground_truth\": eval_answers\n",
    "}\n",
    "dataset = Dataset.from_dict(data_samples)"
   ]
  },
  {
   "cell_type": "code",
   "execution_count": null,
   "id": "4f7ae052-e7a5-4190-a93f-853e66925a80",
   "metadata": {
    "scrolled": true
   },
   "outputs": [],
   "source": [
    "from ragas import evaluate\n",
    "from ragas.metrics import (\n",
    "faithfulness,\n",
    "answer_relevancy,\n",
    "context_recall,\n",
    "context_precision,\n",
    ")\n",
    "metrics = [\n",
    "    faithfulness,\n",
    "    answer_relevancy,\n",
    "    context_precision,\n",
    "    context_recall,\n",
    "]\n",
    "\n",
    "result = evaluate(\n",
    "    dataset=dataset,\n",
    "    metrics=metrics,\n",
    "    llm=llm,                \n",
    "    embeddings=hf_embeddings\n",
    ")\n",
    "print(result)"
   ]
  },
  {
   "cell_type": "code",
   "execution_count": 116,
   "id": "ed402e24-a344-4cdf-8c86-8be3c24318d5",
   "metadata": {},
   "outputs": [
    {
     "name": "stdout",
     "output_type": "stream",
     "text": [
      "{'faithfulness': 0.9596, 'answer_relevancy': 0.8328, 'context_precision': nan, 'context_recall': 1.0000}\n"
     ]
    }
   ],
   "source": [
    "print(result)"
   ]
  },
  {
   "cell_type": "code",
   "execution_count": null,
   "id": "216d1032-0038-4189-9ace-02dba99b7ac8",
   "metadata": {},
   "outputs": [],
   "source": []
  }
 ],
 "metadata": {
  "kernelspec": {
   "display_name": "PyTorch (GPU)",
   "language": "python",
   "name": "pytorch-gpu"
  },
  "language_info": {
   "codemirror_mode": {
    "name": "ipython",
    "version": 3
   },
   "file_extension": ".py",
   "mimetype": "text/x-python",
   "name": "python",
   "nbconvert_exporter": "python",
   "pygments_lexer": "ipython3",
   "version": "3.10.18"
  }
 },
 "nbformat": 4,
 "nbformat_minor": 5
}
